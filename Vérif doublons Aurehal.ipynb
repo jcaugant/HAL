{
 "cells": [
  {
   "cell_type": "code",
   "execution_count": 2,
   "metadata": {
    "scrolled": true
   },
   "outputs": [
    {
     "name": "stdout",
     "output_type": "stream",
     "text": [
      "Nombre de formes pour le lnc : 17\n",
      "Nombre de formes pour le lpc : 31\n",
      "Nombre de formes pour le mmg : 2\n",
      "Nombre de formes pour le irasia : 1\n",
      "Nombre de formes pour le inp : 50\n",
      "Nombre de formes pour le marseille+medical : 14\n"
     ]
    }
   ],
   "source": [
    "import requests\n",
    "from bs4 import BeautifulSoup\n",
    "import urllib.request\n",
    "\n",
    "# Ouverture de la liste des labos en .txt et lecture des lignes\n",
    "\n",
    "filin = open(\"liste.txt\", \"r\")\n",
    "liste= filin.readlines()\n",
    "\n",
    "# Pour chaque acronyme, le script va vérifier le nombre d'occurence qui apparaît\n",
    "for ligne in liste:\n",
    "    lab=ligne.rstrip()\n",
    "    url= \"https://aurehal.archives-ouvertes.fr/structure/browse?critere=\"+lab+\"&category=*\"\n",
    "    data= urllib.request.urlopen(url)\n",
    "    data_read = BeautifulSoup(data, 'html.parser')\n",
    "    results = data_read.find_all('span', attrs={'class': 'badge'})\n",
    "    print(\"Nombre de formes pour le\", lab, \":\", len(results))\n",
    "\n",
    "    \n",
    "\n",
    "    "
   ]
  }
 ],
 "metadata": {
  "kernelspec": {
   "display_name": "Python 3",
   "language": "python",
   "name": "python3"
  },
  "language_info": {
   "codemirror_mode": {
    "name": "ipython",
    "version": 3
   },
   "file_extension": ".py",
   "mimetype": "text/x-python",
   "name": "python",
   "nbconvert_exporter": "python",
   "pygments_lexer": "ipython3",
   "version": "3.8.5"
  }
 },
 "nbformat": 4,
 "nbformat_minor": 4
}
